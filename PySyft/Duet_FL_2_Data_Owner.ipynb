{
 "cells": [
  {
   "cell_type": "code",
   "execution_count": null,
   "metadata": {},
   "outputs": [],
   "source": [
    "%%capture\n",
    "# This only runs in colab and clones the code sets it up and fixes a few issues, \n",
    "# you can skip this if you are running Jupyter Notebooks\n",
    "import sys\n",
    "if \"google.colab\" in sys.modules:\n",
    "    branch = \"dev\"    # change to the branch you want\n",
    "    ! git clone --single-branch --branch $branch https://github.com/OpenMined/PySyft.git\n",
    "    ! cd PySyft && ./scripts/colab.sh      # fixes some colab python issues\n",
    "    sys.path.append(\"/content/PySyft/src\") # prevents needing restart"
   ]
  },
  {
   "cell_type": "code",
   "execution_count": null,
   "metadata": {},
   "outputs": [],
   "source": [
    "from google.colab import drive\n",
    "drive.mount('/content/drive')"
   ]
  },
  {
   "cell_type": "code",
   "execution_count": null,
   "metadata": {},
   "outputs": [],
   "source": [
    "cd /content/drive/MyDrive/PySyft-playground/private-ai-series"
   ]
  },
  {
   "cell_type": "code",
   "execution_count": null,
   "metadata": {},
   "outputs": [],
   "source": [
    "ls"
   ]
  },
  {
   "cell_type": "code",
   "execution_count": null,
   "metadata": {},
   "outputs": [],
   "source": [
    "import syft as sy"
   ]
  },
  {
   "cell_type": "markdown",
   "metadata": {},
   "source": [
    "# Part 1: Launch a Duet Server and upload data"
   ]
  },
  {
   "cell_type": "code",
   "execution_count": 1,
   "metadata": {},
   "outputs": [
    {
     "data": {
      "image/png": "[encoded data removed]",
      "text/plain": [
       "<IPython.core.display.Image object>"
      ]
     },
     "metadata": {
      "image/png": {
       "unconfined": true,
       "width": 400
      }
     },
     "output_type": "display_data"
    },
    {
     "name": "stdout",
     "output_type": "stream",
     "text": [
      "🎤  🎸  ♪♪♪ Starting Duet ♫♫♫  🎻  🎹\n",
      "\n",
      "♫♫♫ >\u001b[93m DISCLAIMER\u001b[0m: \u001b[1mDuet is an experimental feature currently in beta.\n",
      "♫♫♫ > Use at your own risk.\n",
      "\u001b[0m\n",
      "\u001b[1m\n",
      "    > ❤️ \u001b[91mLove\u001b[0m \u001b[92mDuet\u001b[0m? \u001b[93mPlease\u001b[0m \u001b[94mconsider\u001b[0m \u001b[95msupporting\u001b[0m \u001b[91mour\u001b[0m \u001b[93mcommunity!\u001b[0m\n",
      "    > https://github.com/sponsors/OpenMined\u001b[1m\n",
      "\n",
      "♫♫♫ > Punching through firewall to OpenGrid Network Node at:\n",
      "♫♫♫ > http://ec2-18-216-8-163.us-east-2.compute.amazonaws.com:5000\n",
      "♫♫♫ >\n",
      "♫♫♫ > ...waiting for response from OpenGrid Network... \n"
     ]
    },
    {
     "name": "stderr",
     "output_type": "stream",
     "text": [
      "[2021-04-15T19:08:38.353445+0300][CRITICAL][logger]][94318] Skipping torchvision.torchvision.transforms.functional.adjust_sharpness not supported in 0.8.2\n",
      "[2021-04-15T19:08:38.354200+0300][CRITICAL][logger]][94318] Skipping torchvision.torchvision.transforms.functional.autocontrast not supported in 0.8.2\n",
      "[2021-04-15T19:08:38.354958+0300][CRITICAL][logger]][94318] Skipping torchvision.torchvision.transforms.functional.equalize not supported in 0.8.2\n",
      "[2021-04-15T19:08:38.355664+0300][CRITICAL][logger]][94318] Skipping torchvision.torchvision.transforms.functional.invert not supported in 0.8.2\n",
      "[2021-04-15T19:08:38.356498+0300][CRITICAL][logger]][94318] Skipping torchvision.torchvision.transforms.functional.posterize not supported in 0.8.2\n",
      "[2021-04-15T19:08:38.357038+0300][CRITICAL][logger]][94318] Skipping torchvision.torchvision.transforms.functional.solarize not supported in 0.8.2\n"
     ]
    },
    {
     "name": "stdout",
     "output_type": "stream",
     "text": [
      "♫♫♫ > \u001b[92mDONE!\u001b[0m\n",
      "\n",
      "♫♫♫ > \u001b[95mSTEP 1:\u001b[0m Send the following code to your Duet Partner!\n",
      "\n",
      "import syft as sy\n",
      "duet = sy.join_duet(loopback=True)\n",
      "\n",
      "♫♫♫ > Connecting...\n"
     ]
    },
    {
     "name": "stderr",
     "output_type": "stream",
     "text": [
      "[2021-04-15T19:08:50.698207+0300][CRITICAL][logger]][94318] Skipping torchvision.torchvision.transforms.functional.adjust_sharpness not supported in 0.8.2\n",
      "[2021-04-15T19:08:50.698811+0300][CRITICAL][logger]][94318] Skipping torchvision.torchvision.transforms.functional.autocontrast not supported in 0.8.2\n",
      "[2021-04-15T19:08:50.699355+0300][CRITICAL][logger]][94318] Skipping torchvision.torchvision.transforms.functional.equalize not supported in 0.8.2\n",
      "[2021-04-15T19:08:50.699899+0300][CRITICAL][logger]][94318] Skipping torchvision.torchvision.transforms.functional.invert not supported in 0.8.2\n",
      "[2021-04-15T19:08:50.700455+0300][CRITICAL][logger]][94318] Skipping torchvision.torchvision.transforms.functional.posterize not supported in 0.8.2\n",
      "[2021-04-15T19:08:50.701904+0300][CRITICAL][logger]][94318] Skipping torchvision.torchvision.transforms.functional.solarize not supported in 0.8.2\n",
      "[2021-04-15T19:08:50.857474+0300][CRITICAL][logger]][94318] Skipping torchvision.torchvision.transforms.functional.adjust_sharpness not supported in 0.8.2\n",
      "[2021-04-15T19:08:50.858024+0300][CRITICAL][logger]][94318] Skipping torchvision.torchvision.transforms.functional.autocontrast not supported in 0.8.2\n",
      "[2021-04-15T19:08:50.858511+0300][CRITICAL][logger]][94318] Skipping torchvision.torchvision.transforms.functional.equalize not supported in 0.8.2\n",
      "[2021-04-15T19:08:50.858984+0300][CRITICAL][logger]][94318] Skipping torchvision.torchvision.transforms.functional.invert not supported in 0.8.2\n",
      "[2021-04-15T19:08:50.860018+0300][CRITICAL][logger]][94318] Skipping torchvision.torchvision.transforms.functional.posterize not supported in 0.8.2\n",
      "[2021-04-15T19:08:50.860914+0300][CRITICAL][logger]][94318] Skipping torchvision.torchvision.transforms.functional.solarize not supported in 0.8.2\n"
     ]
    },
    {
     "name": "stdout",
     "output_type": "stream",
     "text": [
      "\n",
      "♫♫♫ > \u001b[92mCONNECTED!\u001b[0m\n",
      "\n",
      "♫♫♫ > DUET LIVE STATUS  -  Objects: 0  Requests: 0   Messages: 0  Request Handlers: 0                                olumn\", \"varType\": \"str\", \"varSize\": \"54\", \"varShape\": \"\", \"varContent\": \"speed\"}, {\"varName\": \"copy\", \"varType\": \"DataFrame\", \"varSize\": \"7300\", \"varShape\": \"(100, 9)\", \"varContent\": \"                 time       gFx       gFy       gFz        wx        wy  \\\\\\n756154    7561.545351 -0.384270 -0.151255  0.580285  0.334721 -0.238298   \\n881907    8819.076240 -0.307795  0.003134  0.55119\"}, {\"varName\": \"duet\", \"varType\": \"DomainClient\", \"varSize\": \"48\", \"varShape\": \"\", \"varContent\": \"<DomainClient: <UID: f5dc27cec1ed41b6bf02e62069991dc1>>\"}, {\"varName\": \"path\", \"varType\": \"str\", \"varSize\": \"90\", \"varShape\": \"\", \"varContent\": \"./Terra-D2-multi-labeled-interpolated.csv\"}]\n",
      "♫♫♫ > DUET LIVE STATUS  -  Objects: 16  Requests: 0   Messages: 899  Request Handlers: 1                                                         \r"
     ]
    }
   ],
   "source": [
    "import syft as sy\n",
    "duet = sy.duet(loopback=True)"
   ]
  },
  {
   "cell_type": "code",
   "execution_count": 2,
   "metadata": {},
   "outputs": [],
   "source": [
    "import pandas as pd\n",
    "import numpy as np\n",
    "\n",
    "path = './Terra-D2-multi-labeled-interpolated.csv'\n",
    "copy = pd.read_csv(path)\n",
    "#Cleaning up meaningless data\n",
    "copy = copy[np.all((copy.label.apply(float.is_integer), copy.label != 0), axis=0)]\n",
    "copy.label = pd.to_numeric(copy.label.apply(lambda x: x-1), downcast='integer')\n",
    "\n",
    "for column in copy.columns[1:-1]:\n",
    "            c_max = copy[column].abs().max()\n",
    "            if c_max != 0:\n",
    "                copy[column] = copy[column].apply(lambda x: x/c_max)\n",
    "                \n",
    "copy = copy.sample(frac=1)"
   ]
  },
  {
   "cell_type": "code",
   "execution_count": null,
   "metadata": {},
   "outputs": [],
   "source": []
  },
  {
   "cell_type": "code",
   "execution_count": 3,
   "metadata": {},
   "outputs": [
    {
     "name": "stdout",
     "output_type": "stream",
     "text": [
      "                 time       gFx       gFy       gFz        wx        wy  \\\n",
      "756154    7561.545351 -0.384270 -0.151255  0.580285  0.334721 -0.238298   \n",
      "881907    8819.076240 -0.307795  0.003134  0.551198  0.047093 -0.046096   \n",
      "1140683  11406.838071 -0.315842  0.022810  0.528192 -0.012791  0.001881   \n",
      "1126667  11266.677972 -0.314302  0.023261  0.528027  0.014535 -0.000314   \n",
      "728505    7285.055155 -0.401234 -0.083235  0.493569  0.057558  0.000000   \n",
      "...               ...       ...       ...       ...       ...       ...   \n",
      "1379871  13798.719764 -0.369320  0.060158  0.551528  0.005814 -0.052995   \n",
      "688644    6886.444873 -0.336086 -0.063387  0.543501  0.032558 -0.128253   \n",
      "1411169  14111.699985 -0.352985 -0.026923  0.499257 -0.136628 -0.024146   \n",
      "1100175  11001.757785 -0.316879  0.023180  0.528969  0.009302  0.003763   \n",
      "695112    6951.124919 -0.271968  0.037019  0.502888 -0.013372 -0.028849   \n",
      "\n",
      "               wz     speed  label  \n",
      "756154   0.063474  0.162342      1  \n",
      "881907   0.033673  0.243289      1  \n",
      "1140683  0.000261  0.003321      4  \n",
      "1126667 -0.002349  0.002832      4  \n",
      "728505  -0.172018  0.754559      1  \n",
      "...           ...       ...    ...  \n",
      "1379871 -0.002088  0.003966      2  \n",
      "688644  -0.012529  0.136980      1  \n",
      "1411169 -0.067345  0.627603      1  \n",
      "1100175 -0.000261  0.001946      4  \n",
      "695112   0.013051  0.136980      0  \n",
      "\n",
      "[100 rows x 9 columns]\n"
     ]
    }
   ],
   "source": [
    "\n",
    "copy = copy.head(100)\n",
    "print(copy)"
   ]
  },
  {
   "cell_type": "code",
   "execution_count": 4,
   "metadata": {},
   "outputs": [
    {
     "name": "stdout",
     "output_type": "stream",
     "text": [
      "tensor([[ 7.5615e+03, -3.8427e-01, -1.5125e-01,  5.8028e-01,  3.3472e-01,\n",
      "         -2.3830e-01,  6.3474e-02,  1.6234e-01],\n",
      "        [ 8.8191e+03, -3.0780e-01,  3.1345e-03,  5.5120e-01,  4.7093e-02,\n",
      "         -4.6096e-02,  3.3673e-02,  2.4329e-01],\n",
      "        [ 1.1407e+04, -3.1584e-01,  2.2810e-02,  5.2819e-01, -1.2791e-02,\n",
      "          1.8815e-03,  2.6103e-04,  3.3209e-03],\n",
      "        [ 1.1267e+04, -3.1430e-01,  2.3261e-02,  5.2803e-01,  1.4535e-02,\n",
      "         -3.1358e-04, -2.3493e-03,  2.8322e-03],\n",
      "        [ 7.2851e+03, -4.0123e-01, -8.3235e-02,  4.9357e-01,  5.7558e-02,\n",
      "          0.0000e+00, -1.7202e-01,  7.5456e-01],\n",
      "        [ 8.5484e+03, -3.2556e-01,  1.8865e-01,  5.3276e-01,  5.8140e-04,\n",
      "         -2.6654e-02,  1.7750e-02,  0.0000e+00],\n",
      "        [ 1.0999e+03, -2.6250e-01, -9.3483e-04,  5.3529e-01, -1.9767e-02,\n",
      "         -3.1358e-03, -2.4015e-02,  0.0000e+00],\n",
      "        [ 1.3915e+04, -3.3384e-01,  1.1295e-01,  5.0878e-01,  2.4012e-01,\n",
      "          5.0486e-02, -3.4978e-01,  3.0553e-01],\n",
      "        [ 1.3163e+04, -3.1971e-01,  2.4118e-02,  5.2924e-01, -5.2326e-03,\n",
      "         -3.1358e-03, -5.2206e-03,  1.1305e-03],\n",
      "        [ 4.9843e+03, -3.1796e-01, -7.2916e-03,  5.2819e-01,  3.6047e-02,\n",
      "         -1.8815e-03,  6.5257e-03,  2.9083e-02],\n",
      "        [ 9.4536e+03, -3.1382e-01,  1.4034e-01,  5.2415e-01,  5.4070e-02,\n",
      "          7.8394e-03,  1.7750e-02,  0.0000e+00],\n",
      "        [ 5.1635e+03, -3.5074e-01,  9.1613e-03,  4.9321e-01,  3.2558e-02,\n",
      "         -1.9128e-02,  2.2448e-02,  6.0632e-01],\n",
      "        [ 4.0866e+03, -3.9948e-01, -3.2345e-02,  5.4376e-01,  2.5581e-02,\n",
      "         -1.8815e-03,  1.9316e-02,  0.0000e+00],\n",
      "        [ 6.2460e+03, -2.8506e-01,  2.0005e-02,  5.0168e-01, -6.3953e-03,\n",
      "         -1.1602e-02,  1.3051e-02,  1.4705e-02],\n",
      "        [ 2.7861e+03, -3.3691e-01,  9.0705e-03,  5.2588e-01,  4.6512e-03,\n",
      "          6.2716e-04,  1.0441e-03,  1.3751e-03],\n",
      "        [ 9.2110e+03, -3.7978e-01,  1.6172e-01,  5.3743e-01,  4.7093e-02,\n",
      "          1.5365e-02,  2.2448e-02,  0.0000e+00],\n",
      "        [ 4.5598e+03, -3.0176e-01, -2.5988e-02,  5.0976e-01,  1.0698e-01,\n",
      "         -6.3029e-02, -1.8951e-01,  2.3626e-01],\n",
      "        [ 3.7194e+03, -3.4077e-01,  8.6004e-03,  5.2533e-01, -1.1628e-03,\n",
      "          6.2716e-04,  2.0882e-03,  2.7028e-03],\n",
      "        [ 7.4963e+03, -2.8426e-01,  9.6003e-02,  5.3101e-01, -9.5349e-02,\n",
      "          8.6234e-02,  1.5479e-01,  7.3305e-01],\n",
      "        [ 2.5830e+03, -3.3990e-01,  5.0481e-03,  5.2698e-01,  2.9265e-03,\n",
      "          4.2178e-05,  7.6553e-04,  9.8629e-03],\n",
      "        [ 2.4839e+03, -3.3975e-01,  5.5128e-03,  5.2559e-01,  6.3953e-03,\n",
      "         -7.8394e-03, -1.5662e-03,  4.5367e-03],\n",
      "        [ 2.3043e+03, -3.4077e-01,  5.0481e-03,  5.2616e-01,  4.0698e-03,\n",
      "          1.5679e-03, -3.3934e-03,  2.4971e-03],\n",
      "        [ 6.9546e+03, -3.7268e-01,  1.0507e-01,  5.0718e-01,  1.0349e-01,\n",
      "         -2.4773e-02, -1.3521e-01,  1.3698e-01],\n",
      "        [ 5.9251e+03, -4.0808e-01,  2.8045e-03,  5.3083e-01, -5.4317e-02,\n",
      "         -7.7580e-02,  6.0260e-02,  7.7365e-01],\n",
      "        [ 1.6973e+04, -3.4438e-01, -4.3937e-02,  5.1807e-01, -1.8605e-01,\n",
      "          9.8463e-02,  3.7118e-01,  2.9223e-01],\n",
      "        [ 1.6040e+04, -3.2556e-01,  1.6079e-02,  5.3716e-01,  3.7791e-02,\n",
      "          6.2716e-04, -2.0882e-03,  0.0000e+00],\n",
      "        [ 1.1327e+03, -2.6225e-01,  1.6079e-02,  5.1444e-01, -2.3256e-03,\n",
      "          3.1358e-02, -1.9316e-02,  0.0000e+00],\n",
      "        [ 9.8333e+03, -1.6228e-01,  1.0470e-02,  4.6086e-01, -7.7326e-02,\n",
      "          9.7209e-03,  3.3516e-01,  7.6150e-01],\n",
      "        [ 8.1450e+03, -3.4376e-01,  6.2072e-02,  5.4794e-01, -1.6429e-02,\n",
      "          3.3148e-03,  1.1127e-01,  4.7484e-01],\n",
      "        [ 1.0945e+03, -2.4966e-01, -9.1613e-03,  5.1004e-01,  1.2209e-02,\n",
      "          1.8188e-02, -1.7750e-02,  0.0000e+00],\n",
      "        [ 9.6072e+03, -2.8319e-01,  3.8982e-02,  4.8948e-01, -1.8779e-01,\n",
      "          0.0000e+00, -4.4375e-02,  5.6685e-01],\n",
      "        [ 1.1005e+04, -3.1634e-01,  2.1875e-02,  5.2858e-01, -5.8140e-03,\n",
      "          3.7629e-03,  1.0441e-03,  1.9455e-03],\n",
      "        [ 1.5068e+04, -3.0396e-01,  5.0576e-02,  5.2799e-01, -2.2674e-02,\n",
      "         -2.7908e-02,  1.0441e-03,  7.0769e-02],\n",
      "        [ 2.2233e+03, -3.3990e-01,  5.9829e-03,  5.2627e-01, -2.9070e-03,\n",
      "          2.8222e-03, -1.0441e-03,  3.2685e-03],\n",
      "        [ 1.5727e+04, -2.6857e-01, -5.4923e-02,  5.2398e-01, -3.4942e-01,\n",
      "          1.7498e-01,  1.1746e-01,  1.4880e-01],\n",
      "        [ 9.3142e+02, -3.1397e-01, -2.1239e-01,  5.1191e-01,  8.6628e-02,\n",
      "          4.6723e-02,  3.8110e-02,  4.5101e-01],\n",
      "        [ 1.0592e+04, -3.1360e-01,  2.2436e-02,  5.2962e-01,  1.7442e-03,\n",
      "          1.2543e-03, -1.5662e-03,  5.7845e-03],\n",
      "        [ 1.4773e+04, -3.6308e-01, -2.8141e-02,  5.3541e-01,  2.6744e-02,\n",
      "         -3.9511e-02, -1.6941e-01,  1.0866e-01],\n",
      "        [ 1.1994e+04, -3.1685e-01,  2.1950e-02,  5.2982e-01, -5.2326e-03,\n",
      "          1.5679e-03, -2.6103e-03,  8.1946e-04],\n",
      "        [ 1.2326e+04, -3.1547e-01,  2.0940e-02,  5.2775e-01,  1.1628e-03,\n",
      "          5.3308e-03, -1.3051e-03,  2.5635e-02],\n",
      "        [ 1.0700e+04, -3.1696e-01,  2.1875e-02,  5.2913e-01, -4.0698e-03,\n",
      "         -9.4073e-04,  1.5662e-03,  3.7482e-03],\n",
      "        [ 9.8395e+03, -2.6100e-01,  2.6923e-02,  5.4673e-01,  1.5698e-01,\n",
      "         -1.9128e-02, -5.2467e-02,  7.7444e-01],\n",
      "        [ 9.6989e+03, -4.2179e-01, -1.2471e-01,  5.4321e-01,  1.3198e-01,\n",
      "          7.8394e-03, -2.4537e-01,  2.5378e-01],\n",
      "        [ 1.4738e+04, -3.0051e-01, -1.4565e-01,  5.3732e-01, -1.2209e-02,\n",
      "         -2.2264e-02,  7.1261e-02,  1.6501e-01],\n",
      "        [ 4.9685e+03, -3.4376e-01,  1.6079e-02,  5.4722e-01,  3.8024e-03,\n",
      "          2.8273e-02,  1.0678e-02,  5.4003e-03],\n",
      "        [ 1.6501e+04, -3.2245e-01,  1.6079e-02,  5.3639e-01, -1.6512e-01,\n",
      "         -1.5459e-01,  2.6573e-01,  1.9097e-02],\n",
      "        [ 4.0542e+03, -3.7704e-01,  5.5342e-02,  5.3705e-01, -1.1409e-01,\n",
      "          2.3016e-02,  2.5868e-01,  8.9222e-02],\n",
      "        [ 1.1043e+04, -3.1487e-01,  2.3551e-02,  5.2796e-01,  6.3953e-03,\n",
      "         -2.1950e-03, -2.8713e-03,  2.1165e-03],\n",
      "        [ 1.6277e+04, -2.8845e-01,  2.7676e-02,  4.5632e-01,  6.5698e-02,\n",
      "          1.0348e-02,  2.5790e-01,  6.6400e-01],\n",
      "        [ 3.7395e+03, -3.4015e-01,  7.2916e-03,  5.2599e-01,  1.7442e-03,\n",
      "         -1.2543e-03,  3.3934e-03,  3.6081e-03],\n",
      "        [ 7.6027e+03, -2.9405e-01,  1.2820e-02,  5.1885e-01,  3.6047e-02,\n",
      "         -1.1602e-02,  2.8974e-02,  8.9455e-02],\n",
      "        [ 1.0312e+04, -3.1478e-01,  2.2494e-02,  5.2899e-01,  1.6279e-02,\n",
      "         -4.7037e-03,  3.3934e-03,  0.0000e+00],\n",
      "        [ 5.7087e+03, -3.6384e-01,  4.2423e-02,  5.3467e-01,  5.0581e-02,\n",
      "          3.6375e-02,  1.9316e-02,  0.0000e+00],\n",
      "        [ 1.3664e+04, -3.3005e-01,  5.1228e-02,  5.5372e-01, -5.2326e-03,\n",
      "         -5.6758e-02,  2.8713e-03,  8.8087e-02],\n",
      "        [ 1.5998e+04, -3.0637e-01, -1.1405e-02,  5.4079e-01,  1.9767e-02,\n",
      "         -1.6620e-02,  2.8713e-03,  5.8008e-02],\n",
      "        [ 5.7541e+03, -3.6988e-01,  4.1448e-02,  5.4574e-01,  2.5581e-02,\n",
      "          4.7977e-02,  1.6184e-02,  0.0000e+00],\n",
      "        [ 8.2807e+03, -5.4967e-01, -1.0134e-01,  4.9750e-01,  3.0988e-01,\n",
      "         -1.4926e-01,  2.3623e-01,  1.5676e-01],\n",
      "        [ 1.1607e+04, -3.1552e-01,  2.1614e-02,  5.2823e-01, -4.6512e-03,\n",
      "          0.0000e+00,  1.3051e-03,  9.2051e-03],\n",
      "        [ 5.1073e+03, -2.1704e-01, -2.7402e-02,  5.1355e-01, -1.1279e-01,\n",
      "          1.1602e-02,  1.0389e-01,  6.4021e-01],\n",
      "        [ 8.7857e+03, -3.2369e-01,  6.2633e-02,  5.4805e-01, -3.1395e-02,\n",
      "          6.3343e-02,  5.2989e-02,  2.8857e-01],\n",
      "        [ 1.2402e+04, -3.1598e-01,  2.3586e-02,  5.2857e-01, -2.9070e-03,\n",
      "          9.4073e-04, -3.3934e-03,  2.5635e-02],\n",
      "        [ 1.0043e+04, -3.1574e-01,  2.1585e-02,  5.2827e-01, -8.7209e-03,\n",
      "          4.7037e-03, -2.6103e-04,  0.0000e+00],\n",
      "        [ 1.0343e+04, -3.1734e-01,  2.0005e-02,  5.2830e-01,  5.2326e-03,\n",
      "          1.2543e-03,  4.9595e-03,  0.0000e+00],\n",
      "        [ 1.3591e+04, -3.3407e-01,  3.4477e-02,  5.3792e-01, -2.6163e-02,\n",
      "          1.4111e-02,  1.0441e-03,  2.7990e-02],\n",
      "        [ 4.8371e+02, -3.3736e-01,  3.8370e-02,  5.1248e-01, -8.3721e-02,\n",
      "          2.5713e-02,  7.1522e-02,  0.0000e+00],\n",
      "        [ 1.0130e+04, -3.1310e-01,  2.1501e-02,  5.2858e-01, -5.8140e-04,\n",
      "         -9.2099e-04, -1.2355e-03,  0.0000e+00],\n",
      "        [ 9.4284e+03, -3.1091e-01,  1.3907e-01,  5.1706e-01,  2.9070e-02,\n",
      "          0.0000e+00,  1.7750e-02,  0.0000e+00],\n",
      "        [ 1.5506e+04, -3.7218e-01,  1.6079e-02,  5.4172e-01,  5.1744e-02,\n",
      "         -3.7629e-02, -2.0882e-03,  1.6953e-02],\n",
      "        [ 3.7509e+03, -3.3990e-01,  7.2916e-03,  5.2671e-01,  1.7442e-03,\n",
      "          4.3901e-03, -1.5662e-03,  3.6081e-03],\n",
      "        [ 8.4688e+03, -3.0575e-01,  1.5069e-01,  5.0333e-01,  1.1628e-02,\n",
      "         -1.5365e-02,  1.3051e-02,  0.0000e+00],\n",
      "        [ 1.1235e+04, -3.1584e-01,  2.2217e-02,  5.2819e-01, -1.7442e-02,\n",
      "          5.6444e-03, -5.2206e-04,  2.8322e-03],\n",
      "        [ 8.1330e+03, -3.0537e-01, -1.7762e-02,  5.2698e-01, -1.6860e-02,\n",
      "          1.9128e-02,  4.6463e-02,  0.0000e+00],\n",
      "        [ 9.1504e+03, -3.4925e-01,  1.9407e-01,  5.3622e-01,  5.6328e-02,\n",
      "          4.2468e-02,  2.3408e-02,  5.4779e-02],\n",
      "        [ 6.8022e+03, -2.4596e-01,  1.3397e-01,  5.9913e-01, -5.2326e-02,\n",
      "         -1.4550e-01,  1.7724e-01,  6.9984e-01],\n",
      "        [ 6.6259e+03, -2.5552e-01,  9.3483e-04,  5.0800e-01, -1.8372e-01,\n",
      "          6.5224e-02,  2.9679e-01,  6.5483e-01],\n",
      "        [ 1.4982e+04, -3.1248e-01,  5.9455e-02,  4.9673e-01,  4.1279e-02,\n",
      "          6.9614e-02,  4.4375e-03,  6.1976e-02],\n",
      "        [ 1.8899e+03, -3.4039e-01,  7.0252e-03,  5.2680e-01,  1.1628e-03,\n",
      "          3.4494e-03, -5.2206e-03,  0.0000e+00],\n",
      "        [ 1.1929e+04, -3.1522e-01,  2.7484e-02,  5.2858e-01,  3.4884e-03,\n",
      "         -4.3901e-03,  1.5662e-03,  3.2484e-02],\n",
      "        [ 5.2966e+03, -2.6481e-01,  2.6537e-02,  5.4812e-01, -2.6570e-01,\n",
      "          3.6375e-02,  5.2493e-01,  1.1252e-01],\n",
      "        [ 5.2020e+03, -3.4241e-01,  9.8294e-03,  5.2880e-01,  7.5581e-02,\n",
      "          3.6375e-02,  1.3051e-02,  1.6573e-01],\n",
      "        [ 6.5722e+03, -3.7667e-01, -6.3007e-02,  5.6593e-01,  2.8488e-01,\n",
      "          8.9997e-02, -1.0989e-01,  3.0810e-01],\n",
      "        [ 1.4183e+04, -3.2713e-01,  8.0478e-02,  5.4192e-01,  4.4767e-02,\n",
      "         -5.8639e-02, -1.0258e-01,  6.3159e-01],\n",
      "        [ 4.8227e+03, -3.1102e-01,  2.7133e-02,  5.2981e-01,  2.5581e-02,\n",
      "          1.1602e-02,  9.9191e-03,  9.0452e-02],\n",
      "        [ 4.0123e+03, -4.1777e-01,  1.0628e-02,  5.1637e-01,  2.0698e-01,\n",
      "          8.8115e-02, -1.1459e-01,  6.0621e-01],\n",
      "        [ 9.8883e+03, -3.1759e-01,  2.5988e-02,  5.2913e-01,  1.6279e-02,\n",
      "          6.5851e-03,  5.7426e-03,  8.5188e-02],\n",
      "        [ 1.6780e+04, -3.4131e-01,  7.8831e-02,  5.0816e-01, -1.0116e-01,\n",
      "         -5.8639e-02, -6.7867e-03,  2.9791e-01],\n",
      "        [ 4.5839e+03, -2.8506e-01,  1.6079e-02,  5.2495e-01, -2.9070e-03,\n",
      "         -9.4073e-03,  8.0919e-03,  1.7831e-01],\n",
      "        [ 2.7493e+03, -3.3828e-01,  8.2265e-03,  5.2522e-01, -5.8140e-03,\n",
      "          4.7037e-03,  4.1765e-03,  2.2434e-03],\n",
      "        [ 4.9395e+03, -3.5098e-01,  1.7495e-02,  5.4981e-01,  3.2558e-02,\n",
      "          4.0138e-02,  1.3051e-02,  2.8593e-03],\n",
      "        [ 8.6413e+03, -3.2345e-01,  1.6210e-01,  5.2198e-01,  3.9535e-02,\n",
      "          5.6444e-03,  1.6184e-02,  4.4820e-03],\n",
      "        [ 1.6175e+04, -3.3554e-01, -9.3483e-04,  5.7467e-01,  2.3256e-03,\n",
      "          6.2716e-03,  6.6562e-02,  7.5596e-01],\n",
      "        [ 1.0823e+04, -3.1484e-01,  2.1501e-02,  5.2748e-01, -1.7442e-03,\n",
      "         -9.4073e-04,  1.0441e-03,  1.6334e-03],\n",
      "        [ 5.9369e+03, -2.7289e-01, -6.0133e-03,  5.4799e-01, -3.1395e-02,\n",
      "          5.5503e-02,  1.1015e-01,  4.3622e-01],\n",
      "        [ 1.2513e+04, -3.1522e-01,  2.1875e-02,  5.2792e-01,  0.0000e+00,\n",
      "          4.7037e-03, -2.6103e-04,  5.0431e-04],\n",
      "        [ 9.8427e+03, -1.6911e-01,  2.1951e-02,  5.8001e-01, -1.6977e-01,\n",
      "          6.1461e-02,  1.2790e-01,  7.6459e-01],\n",
      "        [ 1.3799e+04, -3.6932e-01,  6.0158e-02,  5.5153e-01,  5.8140e-03,\n",
      "         -5.2995e-02, -2.0882e-03,  3.9657e-03],\n",
      "        [ 6.8864e+03, -3.3609e-01, -6.3387e-02,  5.4350e-01,  3.2558e-02,\n",
      "         -1.2825e-01, -1.2529e-02,  1.3698e-01],\n",
      "        [ 1.4112e+04, -3.5299e-01, -2.6923e-02,  4.9926e-01, -1.3663e-01,\n",
      "         -2.4146e-02, -6.7345e-02,  6.2760e-01],\n",
      "        [ 1.1002e+04, -3.1688e-01,  2.3180e-02,  5.2897e-01,  9.3023e-03,\n",
      "          3.7629e-03, -2.6103e-04,  1.9455e-03],\n",
      "        [ 6.9511e+03, -2.7197e-01,  3.7019e-02,  5.0289e-01, -1.3372e-02,\n",
      "         -2.8849e-02,  1.3051e-02,  1.3698e-01]])\n",
      "tensor([1, 1, 4, 4, 1, 2, 2, 1, 4, 2, 2, 1, 3, 2, 4, 2, 1, 4, 1, 4, 4, 4, 1, 1,\n",
      "        3, 2, 2, 1, 3, 2, 1, 4, 2, 4, 1, 1, 4, 1, 4, 4, 4, 1, 1, 1, 2, 1, 1, 4,\n",
      "        1, 4, 1, 4, 2, 2, 2, 2, 1, 4, 1, 1, 4, 4, 4, 0, 1, 4, 2, 1, 4, 2, 4, 3,\n",
      "        2, 1, 1, 0, 4, 4, 3, 3, 1, 1, 2, 1, 4, 1, 0, 4, 2, 2, 1, 4, 1, 4, 1, 2,\n",
      "        1, 1, 4, 0])\n"
     ]
    }
   ],
   "source": [
    "import torch as th\n",
    "data = th.FloatTensor(copy.iloc[:, :-1].values).tag(\"dump_data2\")\n",
    "data = data.tag(\"DO2 data\")\n",
    "data = data.describe(\"Dataset2 of 1664159 samples, 8 feature\")\n",
    "\n",
    "target = th.LongTensor(copy.iloc[:, -1:].values.squeeze()).tag(\"target_data2\")\n",
    "target = target.tag(\"DO2 target\")\n",
    "target = target.describe(\"Target2 of 1664159 samples, 1 output\")\n",
    "\n",
    "print(data)\n",
    "print(target)"
   ]
  },
  {
   "cell_type": "code",
   "execution_count": 8,
   "metadata": {},
   "outputs": [
    {
     "name": "stdout",
     "output_type": "stream",
     "text": [
      "1664159\n"
     ]
    }
   ],
   "source": [
    "print(len(data))"
   ]
  },
  {
   "cell_type": "code",
   "execution_count": 5,
   "metadata": {},
   "outputs": [],
   "source": [
    "data_ptr = data.send(duet, pointable=True)\n",
    "target_ptr = target.send(duet, pointable=True)"
   ]
  },
  {
   "cell_type": "code",
   "execution_count": 6,
   "metadata": {},
   "outputs": [],
   "source": [
    "duet.requests.add_handler(\n",
    "    action=\"accept\",\n",
    "    print_local=True,  # print the result in your notebook\n",
    ")"
   ]
  },
  {
   "cell_type": "code",
   "execution_count": null,
   "metadata": {},
   "outputs": [],
   "source": []
  },
  {
   "cell_type": "code",
   "execution_count": null,
   "metadata": {},
   "outputs": [],
   "source": []
  },
  {
   "cell_type": "code",
   "execution_count": null,
   "metadata": {},
   "outputs": [],
   "source": []
  }
 ],
 "metadata": {
  "kernelspec": {
   "display_name": "Python 3",
   "language": "python",
   "name": "python3"
  },
  "language_info": {
   "codemirror_mode": {
    "name": "ipython",
    "version": 3
   },
   "file_extension": ".py",
   "mimetype": "text/x-python",
   "name": "python",
   "nbconvert_exporter": "python",
   "pygments_lexer": "ipython3",
   "version": "3.8.3"
  },
  "toc": {
   "base_numbering": 1,
   "nav_menu": {},
   "number_sections": true,
   "sideBar": true,
   "skip_h1_title": false,
   "title_cell": "Table of Contents",
   "title_sidebar": "Contents",
   "toc_cell": false,
   "toc_position": {},
   "toc_section_display": true,
   "toc_window_display": false
  },
  "varInspector": {
   "cols": {
    "lenName": 16,
    "lenType": 16,
    "lenVar": 40
   },
   "kernels_config": {
    "python": {
     "delete_cmd_postfix": "",
     "delete_cmd_prefix": "del ",
     "library": "var_list.py",
     "varRefreshCmd": "print(var_dic_list())"
    },
    "r": {
     "delete_cmd_postfix": ") ",
     "delete_cmd_prefix": "rm(",
     "library": "var_list.r",
     "varRefreshCmd": "cat(var_dic_list()) "
    }
   },
   "types_to_exclude": [
    "module",
    "function",
    "builtin_function_or_method",
    "instance",
    "_Feature"
   ],
   "window_display": false
  }
 },
 "nbformat": 4,
 "nbformat_minor": 5
}
