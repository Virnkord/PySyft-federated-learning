{
 "cells": [
  {
   "cell_type": "code",
   "execution_count": 177,
   "metadata": {},
   "outputs": [
    {
     "name": "stdout",
     "output_type": "stream",
     "text": [
      "                 time       gFx       gFy       gFz      wx      wy      wz  \\\n",
      "0            0.000000 -0.272700  0.044200  0.938200 -0.0053 -0.0077 -0.0331   \n",
      "1            0.010000 -0.272700  0.044200  0.938200 -0.0053 -0.0077 -0.0331   \n",
      "2            0.020000 -0.289500  0.046200  0.993400 -0.0010  0.0070 -0.0312   \n",
      "3            0.030000 -0.289500  0.046200  0.993400 -0.0010  0.0070 -0.0312   \n",
      "4            0.040000 -0.289500  0.046200  0.993400 -0.0010  0.0070 -0.0312   \n",
      "...               ...       ...       ...       ...     ...     ...     ...   \n",
      "1699978  16999.792029 -0.236300  0.020500  0.950400  0.0223  0.0100  0.0157   \n",
      "1699979  16999.802029 -0.236300  0.020500  0.950400  0.0223  0.0100  0.0157   \n",
      "1699980  16999.812029 -0.241854 -0.017826  0.966228  0.0144  0.0216  0.0157   \n",
      "1699981  16999.822029 -0.227540  0.000489  0.910911  0.0144  0.0216  0.0157   \n",
      "1699982  16999.832029 -0.241440 -0.003311  0.949011  0.0144  0.0216  0.0157   \n",
      "\n",
      "            speed  label  \n",
      "0        0.000000      0  \n",
      "1        0.000000      0  \n",
      "2        0.000000      0  \n",
      "3        0.000000      0  \n",
      "4        0.000000      0  \n",
      "...           ...    ...  \n",
      "1699978  3.246584      1  \n",
      "1699979  3.246584      1  \n",
      "1699980  3.246584      1  \n",
      "1699981  3.246584      1  \n",
      "1699982  3.246584      1  \n",
      "\n",
      "[1664159 rows x 9 columns]\n"
     ]
    }
   ],
   "source": [
    "import pandas as pd\n",
    "import numpy as np\n",
    "\n",
    "path = './Terra-D2-multi-labeled-interpolated.csv'\n",
    "copy = pd.read_csv(path)\n",
    "#Cleaning up meaningless data\n",
    "copy = copy[np.all((copy.label.apply(float.is_integer), copy.label != 0), axis=0)]\n",
    "copy.label = pd.to_numeric(copy.label.apply(lambda x: x-1), downcast='integer')\n",
    "\n",
    "print(copy)"
   ]
  },
  {
   "cell_type": "code",
   "execution_count": 178,
   "metadata": {},
   "outputs": [],
   "source": [
    "for column in copy.columns[1:-1]:\n",
    "            c_max = copy[column].abs().max()\n",
    "            if c_max != 0:\n",
    "                copy[column] = copy[column].apply(lambda x: x/c_max)"
   ]
  },
  {
   "cell_type": "code",
   "execution_count": 179,
   "metadata": {},
   "outputs": [],
   "source": [
    "copy = copy.sample(frac=1)"
   ]
  },
  {
   "cell_type": "code",
   "execution_count": 3,
   "metadata": {},
   "outputs": [
    {
     "name": "stdout",
     "output_type": "stream",
     "text": [
      "                 time       gFx       gFy       gFz        wx        wy  \\\n",
      "1427019  14270.200098 -0.368191  0.095539  0.545520  0.051744  0.052368   \n",
      "488200    4882.003454 -0.297303 -0.023031  0.514950  0.047093 -0.003763   \n",
      "661785    6617.854683 -0.419918 -0.022810  0.510809 -0.031395  0.025086   \n",
      "70704      707.040500 -0.364693  0.084828  0.534175  0.143605 -0.150517   \n",
      "285250    2852.502018 -0.339782  0.005744  0.525900 -0.010465 -0.001254   \n",
      "...               ...       ...       ...       ...       ...       ...   \n",
      "25575      255.750181 -0.311230  0.084508  0.524781  0.001163 -0.018501   \n",
      "1324999  13249.999376 -0.370380  0.040601  0.557958  0.041279 -0.093133   \n",
      "747239    7472.395287 -0.346076 -0.317438  0.484746  0.071512 -0.026654   \n",
      "1426307  14263.080093 -0.326436  0.124332  0.526267  0.055233  0.052368   \n",
      "786049    7860.495562 -0.299123 -0.051823  0.552955  0.054070 -0.068987   \n",
      "\n",
      "               wz     speed  label  \n",
      "1427019  0.007570  0.000000      0  \n",
      "488200   0.013051  0.002321      2  \n",
      "661785  -0.022187  0.677038      1  \n",
      "70704   -0.269642  0.388333      1  \n",
      "285250  -0.001044  0.006911      4  \n",
      "...           ...       ...    ...  \n",
      "25575   -0.076742  0.717155      1  \n",
      "1324999 -0.006787  0.043329      0  \n",
      "747239   0.207518  0.389845      1  \n",
      "1426307  0.012268  0.000000      0  \n",
      "786049   0.019316  0.000000      1  \n",
      "\n",
      "[100 rows x 9 columns]\n"
     ]
    }
   ],
   "source": [
    "copy = copy.sample(frac=1)\n",
    "copy = copy.head(100)\n",
    "print(copy)"
   ]
  },
  {
   "cell_type": "code",
   "execution_count": 182,
   "metadata": {},
   "outputs": [
    {
     "name": "stdout",
     "output_type": "stream",
     "text": [
      "tensor([0, 4, 4,  ..., 1, 4, 4])\n"
     ]
    }
   ],
   "source": [
    "#import torch as th\n",
    "#print(th.LongTensor(copy.iloc[:, -1:].values.squeeze()))"
   ]
  },
  {
   "cell_type": "code",
   "execution_count": 183,
   "metadata": {},
   "outputs": [],
   "source": [
    "import torch as th\n",
    "data = th.FloatTensor(copy.iloc[:, :-1].values)\n",
    "target = th.LongTensor(copy.iloc[:, -1:].values.squeeze())\n"
   ]
  },
  {
   "cell_type": "code",
   "execution_count": 184,
   "metadata": {},
   "outputs": [
    {
     "name": "stdout",
     "output_type": "stream",
     "text": [
      "tensor([0, 4, 4,  ..., 1, 4, 4])\n"
     ]
    }
   ],
   "source": [
    "#print(data)\n",
    "print(target)"
   ]
  },
  {
   "cell_type": "code",
   "execution_count": 124,
   "metadata": {},
   "outputs": [],
   "source": [
    "#print(target.squeeze())\n",
    "\n",
    "from sklearn import preprocessing\n",
    "lb = preprocessing.LabelBinarizer()\n",
    "lb.fit([0, 1, 2, 3, 4])\n",
    "p_target = lb.transform(target.squeeze())\n"
   ]
  },
  {
   "cell_type": "code",
   "execution_count": 125,
   "metadata": {},
   "outputs": [],
   "source": [
    "p_target = th.tensor(p_target, dtype=torch.long) "
   ]
  },
  {
   "cell_type": "code",
   "execution_count": 127,
   "metadata": {},
   "outputs": [
    {
     "name": "stdout",
     "output_type": "stream",
     "text": [
      "tensor([[0, 0, 0, 1, 0],\n",
      "        [1, 0, 0, 0, 0],\n",
      "        [0, 0, 1, 0, 0],\n",
      "        ...,\n",
      "        [0, 0, 0, 0, 1],\n",
      "        [0, 1, 0, 0, 0],\n",
      "        [0, 1, 0, 0, 0]])\n"
     ]
    }
   ],
   "source": [
    "print(p_target)"
   ]
  },
  {
   "cell_type": "code",
   "execution_count": 126,
   "metadata": {},
   "outputs": [
    {
     "name": "stdout",
     "output_type": "stream",
     "text": [
      "torch.Size([1664159, 5])\n"
     ]
    }
   ],
   "source": [
    "print(p_target.shape)"
   ]
  },
  {
   "cell_type": "code",
   "execution_count": 83,
   "metadata": {},
   "outputs": [],
   "source": [
    "import torch"
   ]
  },
  {
   "cell_type": "code",
   "execution_count": 84,
   "metadata": {},
   "outputs": [],
   "source": [
    "in_dim = 8\n",
    "out_dim = 5"
   ]
  },
  {
   "cell_type": "code",
   "execution_count": 164,
   "metadata": {},
   "outputs": [],
   "source": [
    "class SyNet(torch.nn.Module):\n",
    "    def __init__(self):\n",
    "        super().__init__()\n",
    "        \n",
    "        self.lin1 = torch.nn.Linear(in_dim, 256)\n",
    "        self.act1 = torch.nn.ReLU()\n",
    "        self.lin2 = torch.nn.Linear(256, 64)\n",
    "        self.act2 = torch.nn.ReLU()\n",
    "        self.lin3 = torch.nn.Linear(64, out_dim)\n",
    "        self.sm = torch.nn.Softmax(dim=1)\n",
    "        \n",
    "    def forward(self, x):\n",
    "        x = self.lin1(x)\n",
    "        x = self.act1(x)\n",
    "        x = self.lin2(x)\n",
    "        x = self.act2(x)\n",
    "        x = self.lin3(x)\n",
    "        return x\n",
    "        \n",
    "    def inference(self, x):\n",
    "        x = self.forward(x)\n",
    "        x = self.sm(x)\n",
    "        return x"
   ]
  },
  {
   "cell_type": "code",
   "execution_count": 171,
   "metadata": {},
   "outputs": [],
   "source": [
    "criterion = torch.nn.CrossEntropyLoss()"
   ]
  },
  {
   "cell_type": "code",
   "execution_count": 173,
   "metadata": {},
   "outputs": [],
   "source": [
    "def train(epochs, net, optim, data, target, batch_size):\n",
    "\n",
    "    losses = []\n",
    "\n",
    "    for epoch in range(epochs):\n",
    "\n",
    "        optim.zero_grad()\n",
    "        output = net(data)\n",
    "        loss = criterion(output, target.squeeze())\n",
    "        print(\"Epoch\", epoch, \"loss\", loss.item())\n",
    "\n",
    "        losses.append(loss.item())\n",
    "        loss.backward()\n",
    "        optim.step()\n",
    "\n",
    "    return losses"
   ]
  },
  {
   "cell_type": "code",
   "execution_count": 185,
   "metadata": {},
   "outputs": [],
   "source": [
    "net = SyNet()\n",
    "optim = torch.optim.SGD(net.parameters(), lr=0.01)"
   ]
  },
  {
   "cell_type": "code",
   "execution_count": 128,
   "metadata": {
    "scrolled": true
   },
   "outputs": [
    {
     "name": "stdout",
     "output_type": "stream",
     "text": [
      "tensor([3, 0, 2,  ..., 4, 1, 1])\n"
     ]
    }
   ],
   "source": [
    "print(torch.argmax(p_target, dim = 1))\n",
    "n_target = torch.argmax(p_target, dim = 1)"
   ]
  },
  {
   "cell_type": "markdown",
   "metadata": {},
   "source": [
    "epochs = 20\n",
    "batch_size = 32\n",
    "losses = train(epochs, net, optim, data, target, batch_size)"
   ]
  },
  {
   "cell_type": "code",
   "execution_count": 93,
   "metadata": {},
   "outputs": [
    {
     "name": "stdout",
     "output_type": "stream",
     "text": [
      "[1.6544071435928345, 1.6416308879852295, 1.6109405755996704, 1.6050889492034912, 1.5882394313812256, 1.5718849897384644, 1.5578628778457642, 1.554456353187561, 1.5480256080627441, 1.5351884365081787, 1.5382765531539917, 1.5269577503204346, 1.5276988744735718, 1.5084407329559326, 1.5127334594726562, 1.51259183883667, 1.5035885572433472, 1.5090070962905884, 1.489092230796814, 1.4885485172271729, 1.4904820919036865, 1.4877099990844727, 1.48136568069458, 1.4787081480026245, 1.4820529222488403, 1.469866156578064, 1.470908522605896, 1.4750583171844482, 1.465771198272705, 1.4661056995391846, 1.4609370231628418, 1.4608567953109741, 1.4378117322921753, 1.4335013628005981, 1.4346548318862915, 1.4352132081985474, 1.4367696046829224, 1.436715841293335, 1.4367831945419312, 1.4336085319519043, 1.433610200881958, 1.436002492904663, 1.4357777833938599, 1.436741828918457, 1.437233567237854, 1.4373730421066284, 1.4350953102111816, 1.4352281093597412, 1.4291229248046875, 1.4300966262817383, 1.4302788972854614, 1.4296373128890991, 1.427493691444397, 1.4271321296691895, 1.427017092704773, 1.4271447658538818, 1.4165400266647339, 1.41668701171875, 1.4166924953460693, 1.421730875968933, 1.422985553741455, 1.4227914810180664, 1.4228848218917847, 1.4226824045181274, 1.4239591360092163, 1.4240665435791016, 1.4250257015228271, 1.42489492893219, 1.427340030670166, 1.4143046140670776, 1.4144107103347778, 1.4099640846252441, 1.4112732410430908, 1.4113569259643555, 1.4114328622817993, 1.4142218828201294, 1.413858413696289, 1.4136959314346313, 1.415333867073059, 1.4154762029647827, 1.4153963327407837, 1.4155828952789307, 1.415343999862671, 1.4165211915969849, 1.4165732860565186, 1.4166951179504395, 1.4166616201400757, 1.4176359176635742, 1.4177440404891968, 1.417563796043396, 1.4175819158554077, 1.4176170825958252, 1.4177402257919312, 1.4177525043487549, 1.417717695236206, 1.4178011417388916, 1.4179203510284424, 1.419216275215149, 1.4192003011703491, 1.419297695159912]\n"
     ]
    }
   ],
   "source": [
    "print(losses)"
   ]
  },
  {
   "cell_type": "code",
   "execution_count": 150,
   "metadata": {},
   "outputs": [],
   "source": [
    "lom = [1.6544071435928345, 1.6416308879852295, 1.6109405755996704, 1.6050889492034912, 1.5882394313812256, 1.5718849897384644, 1.5578628778457642, 1.554456353187561, 1.5480256080627441, 1.5351884365081787, 1.5382765531539917, 1.5269577503204346, 1.5276988744735718, 1.5084407329559326, 1.5127334594726562, 1.51259183883667, 1.5035885572433472, 1.5090070962905884, 1.489092230796814, 1.4885485172271729, 1.4904820919036865, 1.4877099990844727, 1.48136568069458, 1.4787081480026245, 1.4820529222488403, 1.469866156578064, 1.470908522605896, 1.4750583171844482, 1.465771198272705, 1.4661056995391846, 1.4609370231628418, 1.4608567953109741, 1.4378117322921753, 1.4335013628005981, 1.4346548318862915, 1.4352132081985474, 1.4367696046829224, 1.436715841293335, 1.4367831945419312, 1.4336085319519043, 1.433610200881958, 1.436002492904663, 1.4357777833938599, 1.436741828918457, 1.437233567237854, 1.4373730421066284, 1.4350953102111816, 1.4352281093597412, 1.4291229248046875, 1.4300966262817383, 1.4302788972854614, 1.4296373128890991, 1.427493691444397, 1.4271321296691895, 1.427017092704773, 1.4271447658538818, 1.4165400266647339, 1.41668701171875, 1.4166924953460693, 1.421730875968933, 1.422985553741455, 1.4227914810180664, 1.4228848218917847, 1.4226824045181274, 1.4239591360092163, 1.4240665435791016, 1.4250257015228271, 1.42489492893219, 1.427340030670166, 1.4143046140670776, 1.4144107103347778, 1.4099640846252441, 1.4112732410430908, 1.4113569259643555, 1.4114328622817993, 1.4142218828201294, 1.413858413696289, 1.4136959314346313, 1.415333867073059, 1.4154762029647827, 1.4153963327407837, 1.4155828952789307, 1.415343999862671, 1.4165211915969849, 1.4165732860565186, 1.4166951179504395, 1.4166616201400757, 1.4176359176635742, 1.4177440404891968, 1.417563796043396, 1.4175819158554077, 1.4176170825958252, 1.4177402257919312, 1.4177525043487549, 1.417717695236206, 1.4178011417388916, 1.4179203510284424, 1.419216275215149, 1.4192003011703491, 1.419297695159912]"
   ]
  },
  {
   "cell_type": "code",
   "execution_count": 170,
   "metadata": {},
   "outputs": [
    {
     "data": {
      "image/png": "[encoded data removed]",
      "text/plain": [
       "<Figure size 432x288 with 1 Axes>"
      ]
     },
     "metadata": {
      "needs_background": "dark"
     },
     "output_type": "display_data"
    }
   ],
   "source": [
    "import matplotlib.pyplot as plt\n",
    "import numpy as np\n",
    "\n",
    "params = {\"ytick.color\" : \"w\",\n",
    "          \"xtick.color\" : \"w\",\n",
    "          \"axes.labelcolor\" : \"w\",\n",
    "          \"axes.edgecolor\" : \"w\"}\n",
    "plt.rcParams.update(params)\n",
    "\n",
    "lag = 1\n",
    "x = np.arange(1,101)\n",
    "y = lom\n",
    "\n",
    "x2 = np.arange(1,21)\n",
    "y2 = losses\n",
    "\n",
    "fig = plt.figure()\n",
    "plt.plot(x, y)\n",
    "plt.plot(x2, y2)\n",
    "plt.ylabel('loss')\n",
    "plt.xlabel('Epochs')\n",
    "\n",
    "plt.show()"
   ]
  },
  {
   "cell_type": "code",
   "execution_count": 162,
   "metadata": {},
   "outputs": [
    {
     "name": "stdout",
     "output_type": "stream",
     "text": [
      "1.4164248704910278\n"
     ]
    }
   ],
   "source": [
    "print(min(losses))"
   ]
  },
  {
   "cell_type": "code",
   "execution_count": 163,
   "metadata": {},
   "outputs": [
    {
     "name": "stdout",
     "output_type": "stream",
     "text": [
      "86\n"
     ]
    }
   ],
   "source": [
    "print(losses.index(1.4164248704910278))"
   ]
  }
 ],
 "metadata": {
  "kernelspec": {
   "display_name": "Python 3",
   "language": "python",
   "name": "python3"
  },
  "language_info": {
   "codemirror_mode": {
    "name": "ipython",
    "version": 3
   },
   "file_extension": ".py",
   "mimetype": "text/x-python",
   "name": "python",
   "nbconvert_exporter": "python",
   "pygments_lexer": "ipython3",
   "version": "3.8.3"
  },
  "toc": {
   "base_numbering": 1,
   "nav_menu": {},
   "number_sections": true,
   "sideBar": true,
   "skip_h1_title": false,
   "title_cell": "Table of Contents",
   "title_sidebar": "Contents",
   "toc_cell": false,
   "toc_position": {},
   "toc_section_display": true,
   "toc_window_display": false
  },
  "varInspector": {
   "cols": {
    "lenName": 16,
    "lenType": 16,
    "lenVar": 40
   },
   "kernels_config": {
    "python": {
     "delete_cmd_postfix": "",
     "delete_cmd_prefix": "del ",
     "library": "var_list.py",
     "varRefreshCmd": "print(var_dic_list())"
    },
    "r": {
     "delete_cmd_postfix": ") ",
     "delete_cmd_prefix": "rm(",
     "library": "var_list.r",
     "varRefreshCmd": "cat(var_dic_list()) "
    }
   },
   "types_to_exclude": [
    "module",
    "function",
    "builtin_function_or_method",
    "instance",
    "_Feature"
   ],
   "window_display": false
  }
 },
 "nbformat": 4,
 "nbformat_minor": 4
}
